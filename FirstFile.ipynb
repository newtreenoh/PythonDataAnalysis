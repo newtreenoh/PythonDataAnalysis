{
 "cells": [
  {
   "cell_type": "code",
   "execution_count": null,
   "id": "0dbaa3d1",
   "metadata": {},
   "outputs": [],
   "source": [
    "# import python libraries\n",
    "\n",
    "import numpy as np \n",
    "import pandas as pd \n",
    "import matplotlib.pyplot as plt # visualizing data\n",
    "%matplotlib inline\n",
    "import seaborn as sns"
   ]
  },
  {
   "attachments": {},
   "cell_type": "markdown",
   "id": "dacaa2d3",
   "metadata": {},
   "source": [
    "# import csv file\n",
    "df = pd.read_csv(r'Sales Data.csv', encoding= 'unicode_escape')\n",
    "# update file path as required\n",
    "# use encoding_escape to avoid encoding error"
   ]
  },
  {
   "attachments": {},
   "cell_type": "markdown",
   "id": "dadcff6a",
   "metadata": {},
   "source": [
    "# calculate rows and columns within the dataframe \n",
    "df.shape"
   ]
  },
  {
   "attachments": {},
   "cell_type": "markdown",
   "id": "94bf5091",
   "metadata": {},
   "source": [
    "# .head() to see the top 5 rows of the file\n",
    "df.head()"
   ]
  },
  {
   "attachments": {},
   "cell_type": "markdown",
   "id": "81997d2f",
   "metadata": {},
   "source": [
    "# for data cleaning, use .info() to get following from the data frame: columns, non-nulls, count, data type\n",
    "df.info()"
   ]
  },
  {
   "attachments": {},
   "cell_type": "markdown",
   "id": "44b954c3",
   "metadata": {},
   "source": [
    "# drop unrelated or blank columns\n",
    "df.drop(['Status', 'unnamed1'], axis=1, inplace=True)\n",
    "# pass column names, axis(whole vertical column)\n",
    "# include inplace = True to save the implementation"
   ]
  },
  {
   "attachments": {},
   "cell_type": "markdown",
   "id": "a2c6fe41",
   "metadata": {},
   "source": [
    "# use .isnull() from pandas library to check null values within the columns\n",
    "pd.isnull(df).sum()\n",
    "# .sum() gives total of null values within the columns\n"
   ]
  },
  {
   "attachments": {},
   "cell_type": "markdown",
   "id": "267c6fd7",
   "metadata": {},
   "source": [
    "# drop null values using .dropna()\n",
    "df.dropna(inplace=True)\n",
    "# add inplace = True to save the execution"
   ]
  },
  {
   "attachments": {},
   "cell_type": "markdown",
   "id": "300d3fae",
   "metadata": {},
   "source": [
    "# change data type to align\n",
    "df['Amount'] = df['Amount'].astype('int')"
   ]
  },
  {
   "attachments": {},
   "cell_type": "markdown",
   "id": "89d0db71",
   "metadata": {},
   "source": [
    "# check data type of the column\n",
    "df['Amount'].dtypes"
   ]
  },
  {
   "attachments": {},
   "cell_type": "markdown",
   "id": "6391bbcf",
   "metadata": {},
   "source": [
    "# check columns\n",
    "df.columns"
   ]
  }
 ],
 "metadata": {
  "kernelspec": {
   "display_name": "Python 3 (ipykernel)",
   "language": "python",
   "name": "python3"
  },
  "language_info": {
   "codemirror_mode": {
    "name": "ipython",
    "version": 3
   },
   "file_extension": ".py",
   "mimetype": "text/x-python",
   "name": "python",
   "nbconvert_exporter": "python",
   "pygments_lexer": "ipython3",
   "version": "3.11.4"
  }
 },
 "nbformat": 4,
 "nbformat_minor": 5
}
